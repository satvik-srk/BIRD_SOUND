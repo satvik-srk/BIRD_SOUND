{
  "metadata": {
    "kernelspec": {
      "language": "python",
      "display_name": "Python 3",
      "name": "python3"
    },
    "language_info": {
      "name": "python",
      "version": "3.11.11",
      "mimetype": "text/x-python",
      "codemirror_mode": {
        "name": "ipython",
        "version": 3
      },
      "pygments_lexer": "ipython3",
      "nbconvert_exporter": "python",
      "file_extension": ".py"
    },
    "kaggle": {
      "accelerator": "none",
      "dataSources": [
        {
          "sourceId": 11358612,
          "sourceType": "datasetVersion",
          "datasetId": 7108840
        }
      ],
      "dockerImageVersionId": 31011,
      "isInternetEnabled": true,
      "language": "python",
      "sourceType": "notebook",
      "isGpuEnabled": false
    },
    "colab": {
      "provenance": []
    }
  },
  "nbformat_minor": 0,
  "nbformat": 4,
  "cells": [
    {
      "cell_type": "markdown",
      "source": [
        "# 1. Build an image segmentation model using pytorch"
      ],
      "metadata": {
        "id": "9Y91EGtALdVS"
      }
    },
    {
      "cell_type": "code",
      "source": [
        "import os\n",
        "from PIL import Image\n",
        "import torch\n",
        "from torch.utils.data import Dataset, DataLoader\n",
        "import torchvision.transforms as transforms\n",
        "import torch.nn as nn\n",
        "import torch.optim as optim\n",
        "from tqdm import tqdm\n",
        "import matplotlib.pyplot as plt"
      ],
      "metadata": {
        "_uuid": "8f2839f25d086af736a60e9eeb907d3b93b6e0e5",
        "_cell_guid": "b1076dfc-b9ad-4769-8c92-a6c4dae69d19",
        "trusted": true,
        "execution": {
          "iopub.status.busy": "2025-04-18T20:56:30.605385Z",
          "iopub.execute_input": "2025-04-18T20:56:30.606091Z",
          "iopub.status.idle": "2025-04-18T20:56:30.609896Z",
          "shell.execute_reply.started": "2025-04-18T20:56:30.606067Z",
          "shell.execute_reply": "2025-04-18T20:56:30.609120Z"
        },
        "id": "degw79zILdVW"
      },
      "outputs": [],
      "execution_count": null
    },
    {
      "cell_type": "code",
      "source": [
        "base_path = \"/kaggle/input/bird-sound-dataset/Bird_Sound_Dataset/new_dataset/new_dataset\"\n",
        "train_image_dir = os.path.join(base_path, \"train/images\")\n",
        "train_mask_dir = os.path.join(base_path, \"train/masks\")\n",
        "val_image_dir = os.path.join(base_path, \"valid/images\")\n",
        "val_mask_dir = os.path.join(base_path, \"valid/masks\")\n",
        "test_image_dir = os.path.join(base_path, \"test/images\")\n",
        "test_mask_dir = os.path.join(base_path, \"test/masks\")\n",
        "\n",
        "print(\"Checking dataset paths\")\n",
        "for name, path in [(\"Train images\", train_image_dir),\n",
        "                   (\"Train masks\", train_mask_dir),\n",
        "                   (\"Val images\", val_image_dir),\n",
        "                   (\"Val masks\", val_mask_dir),\n",
        "                   (\"Test images\", test_image_dir),\n",
        "                   (\"Test masks\", test_mask_dir)]:\n",
        "    print(f\"{name}: {'Found' if os.path.exists(path) else 'Missing'}\")\n",
        "\n",
        "class BirdSoundDataset(Dataset):\n",
        "    def __init__(self, image_dir, mask_dir, transform=None):\n",
        "        self.image_dir = image_dir\n",
        "        self.mask_dir = mask_dir\n",
        "        self.transform = transform\n",
        "        self.image_files = sorted(os.listdir(image_dir))\n",
        "        self.mask_files = sorted(os.listdir(mask_dir))\n",
        "\n",
        "    def __len__(self):\n",
        "        return len(self.image_files)\n",
        "\n",
        "    def __getitem__(self, idx):\n",
        "        image = Image.open(os.path.join(self.image_dir, self.image_files[idx])).convert(\"RGB\")\n",
        "        mask = Image.open(os.path.join(self.mask_dir, self.mask_files[idx])).convert(\"L\")\n",
        "\n",
        "        if self.transform:\n",
        "            image = self.transform(image)\n",
        "            mask = self.transform(mask)\n",
        "\n",
        "        return image, mask\n",
        "\n",
        "transform = transforms.Compose([\n",
        "    transforms.Resize((256, 256)),\n",
        "    transforms.ToTensor(),\n",
        "])"
      ],
      "metadata": {
        "trusted": true,
        "execution": {
          "iopub.status.busy": "2025-04-18T20:56:33.760701Z",
          "iopub.execute_input": "2025-04-18T20:56:33.761149Z",
          "iopub.status.idle": "2025-04-18T20:56:33.775122Z",
          "shell.execute_reply.started": "2025-04-18T20:56:33.761126Z",
          "shell.execute_reply": "2025-04-18T20:56:33.774440Z"
        },
        "id": "W2R-UFy4LdVZ",
        "outputId": "dee0cd8d-6eb3-470e-9ab0-c29ea1da0899"
      },
      "outputs": [
        {
          "name": "stdout",
          "text": "Checking dataset paths\nTrain images: Found\nTrain masks: Found\nVal images: Found\nVal masks: Found\nTest images: Found\nTest masks: Found\n",
          "output_type": "stream"
        }
      ],
      "execution_count": null
    },
    {
      "cell_type": "code",
      "source": [
        "print(\"\\nCreating datasets\")\n",
        "train_dataset = BirdSoundDataset(train_image_dir, train_mask_dir, transform)\n",
        "val_dataset = BirdSoundDataset(val_image_dir, val_mask_dir, transform)\n",
        "test_dataset = BirdSoundDataset(test_image_dir, test_mask_dir, transform)\n",
        "\n",
        "print(f\"Training samples: {len(train_dataset)}\")\n",
        "print(f\"Validation samples: {len(val_dataset)}\")\n",
        "print(f\"Test samples: {len(test_dataset)}\")"
      ],
      "metadata": {
        "trusted": true,
        "execution": {
          "iopub.status.busy": "2025-04-18T20:56:38.799353Z",
          "iopub.execute_input": "2025-04-18T20:56:38.800087Z",
          "iopub.status.idle": "2025-04-18T20:56:38.809544Z",
          "shell.execute_reply.started": "2025-04-18T20:56:38.800056Z",
          "shell.execute_reply": "2025-04-18T20:56:38.808850Z"
        },
        "id": "kE0Drm-_LdVb",
        "outputId": "29d561e3-5ddf-4473-d9c5-119ad6fbc1cf"
      },
      "outputs": [
        {
          "name": "stdout",
          "text": "\nCreating datasets\nTraining samples: 1000\nValidation samples: 200\nTest samples: 300\n",
          "output_type": "stream"
        }
      ],
      "execution_count": null
    },
    {
      "cell_type": "code",
      "source": [
        "plt.figure(figsize=(6, 5))\n",
        "categories = ['Training', 'Validation', 'Test']\n",
        "colors = ['#1f77b4', '#ff7f0e', '#2ca02c']\n",
        "counts = [len(train_dataset), len(val_dataset), len(test_dataset)]\n",
        "\n",
        "bars = plt.bar(categories, counts, color=colors)\n",
        "\n",
        "plt.title('Dataset Samples Distribution', fontsize=14)\n",
        "plt.ylabel('Number of Images', fontsize=12)\n",
        "\n",
        "for bar in bars:\n",
        "    height = bar.get_height()\n",
        "    plt.text(bar.get_x() + bar.get_width()/2., height,\n",
        "             f'{height}',\n",
        "             ha='center', va='bottom', fontsize=12)\n",
        "\n",
        "plt.grid(True, axis='y', linestyle='--', alpha=0.7)\n",
        "plt.show()"
      ],
      "metadata": {
        "trusted": true,
        "execution": {
          "iopub.status.busy": "2025-04-18T20:56:44.248967Z",
          "iopub.execute_input": "2025-04-18T20:56:44.249454Z",
          "iopub.status.idle": "2025-04-18T20:56:44.369965Z",
          "shell.execute_reply.started": "2025-04-18T20:56:44.249430Z",
          "shell.execute_reply": "2025-04-18T20:56:44.369204Z"
        },
        "id": "9DfcZirjLdVd",
        "outputId": "6e4d4073-bfd6-4254-e9bf-dca76e4d6760"
      },
      "outputs": [
        {
          "output_type": "display_data",
          "data": {
            "text/plain": "<Figure size 600x500 with 1 Axes>",
            "image/png": "[encoded data removed]"
          },
          "metadata": {}
        }
      ],
      "execution_count": null
    },
    {
      "cell_type": "markdown",
      "source": [
        "# 2. Train your model using [Bird sound datasets](https://yuad-my.sharepoint.com/personal/youshan_zhang_yu_edu/_layouts/15/onedrive.aspx?id=%2Fpersonal%2Fyoushan%5Fzhang%5Fyu%5Fedu%2FDocuments%2FBird%5FSound%5FDataset&ga=1)"
      ],
      "metadata": {
        "id": "r8WElMjmLdVe"
      }
    },
    {
      "cell_type": "code",
      "source": [
        "class SpectrogramSegmenter(nn.Module):\n",
        "    def __init__(self):\n",
        "        super(SpectrogramSegmenter, self).__init__()\n",
        "\n",
        "        self.down1 = self._conv_block(3, 64)\n",
        "        self.down2 = self._conv_block(64, 128)\n",
        "        self.down3 = self._conv_block(128, 256)\n",
        "        self.down4 = self._conv_block(256, 512)\n",
        "\n",
        "        self.pool = nn.MaxPool2d(2)\n",
        "\n",
        "\n",
        "        self.up1 = self._upconv_block(512, 256)\n",
        "        self.up2 = self._upconv_block(512, 128)\n",
        "        self.up3 = self._upconv_block(256, 64)\n",
        "\n",
        "\n",
        "        self.out = nn.Conv2d(128, 1, kernel_size=1)\n",
        "\n",
        "    def _conv_block(self, in_ch, out_ch):\n",
        "        return nn.Sequential(\n",
        "            nn.Conv2d(in_ch, out_ch, 3, padding=1),\n",
        "            nn.ReLU(inplace=True),\n",
        "            nn.Conv2d(out_ch, out_ch, 3, padding=1),\n",
        "            nn.ReLU(inplace=True)\n",
        "        )\n",
        "\n",
        "    def _upconv_block(self, in_ch, out_ch):\n",
        "        return nn.Sequential(\n",
        "            nn.ConvTranspose2d(in_ch, out_ch, 2, stride=2),\n",
        "            nn.ReLU(inplace=True)\n",
        "        )\n",
        "\n",
        "    def forward(self, x):\n",
        "\n",
        "        c1 = self.down1(x)\n",
        "        p1 = self.pool(c1)\n",
        "\n",
        "        c2 = self.down2(p1)\n",
        "        p2 = self.pool(c2)\n",
        "\n",
        "        c3 = self.down3(p2)\n",
        "        p3 = self.pool(c3)\n",
        "\n",
        "        c4 = self.down4(p3)\n",
        "\n",
        "\n",
        "        u1 = self.up1(c4)\n",
        "        u1 = torch.cat([u1, c3], dim=1)\n",
        "\n",
        "        u2 = self.up2(u1)\n",
        "        u2 = torch.cat([u2, c2], dim=1)\n",
        "\n",
        "        u3 = self.up3(u2)\n",
        "        u3 = torch.cat([u3, c1], dim=1)\n",
        "\n",
        "        return torch.sigmoid(self.out(u3))\n",
        "\n",
        "device = torch.device(\"cuda\" if torch.cuda.is_available() else \"cpu\")\n",
        "model = SpectrogramSegmenter().to(device)\n",
        "print(\"Model initialized and moved to\", device)"
      ],
      "metadata": {
        "trusted": true,
        "execution": {
          "iopub.status.busy": "2025-04-18T20:57:48.367890Z",
          "iopub.execute_input": "2025-04-18T20:57:48.368595Z",
          "iopub.status.idle": "2025-04-18T20:57:48.750953Z",
          "shell.execute_reply.started": "2025-04-18T20:57:48.368569Z",
          "shell.execute_reply": "2025-04-18T20:57:48.750306Z"
        },
        "id": "QGjr4bHQLdVe",
        "outputId": "45269faf-e89f-4f7f-938c-dc405b26b7a0"
      },
      "outputs": [
        {
          "name": "stdout",
          "text": "Model initialized and moved to cuda\n",
          "output_type": "stream"
        }
      ],
      "execution_count": null
    },
    {
      "cell_type": "code",
      "source": [
        "num_epochs = 25\n",
        "batch_size = 8\n",
        "learning_rate = 0.001\n",
        "\n",
        "train_loader = DataLoader(train_dataset, batch_size=batch_size, shuffle=True)\n",
        "val_loader = DataLoader(val_dataset, batch_size=batch_size, shuffle=False)\n",
        "\n",
        "criterion = nn.BCELoss()\n",
        "optimizer = optim.Adam(model.parameters(), lr=learning_rate)\n",
        "\n",
        "print(\"Starting training\")\n",
        "train_losses = []\n",
        "val_losses = []\n",
        "\n",
        "for epoch in range(num_epochs):\n",
        "    model.train()\n",
        "    epoch_train_loss = 0\n",
        "\n",
        "\n",
        "    for images, masks in tqdm(train_loader, desc=f\"Epoch {epoch+1}/{num_epochs}\"):\n",
        "        images, masks = images.to(device), masks.to(device)\n",
        "\n",
        "        optimizer.zero_grad()\n",
        "        outputs = model(images)\n",
        "        loss = criterion(outputs, masks)\n",
        "        loss.backward()\n",
        "        optimizer.step()\n",
        "\n",
        "        epoch_train_loss += loss.item()\n",
        "\n",
        "\n",
        "    model.eval()\n",
        "    epoch_val_loss = 0\n",
        "    with torch.no_grad():\n",
        "        for images, masks in val_loader:\n",
        "            images, masks = images.to(device), masks.to(device)\n",
        "            outputs = model(images)\n",
        "            loss = criterion(outputs, masks)\n",
        "            epoch_val_loss += loss.item()\n",
        "\n",
        "    train_loss = epoch_train_loss / len(train_loader)\n",
        "    val_loss = epoch_val_loss / len(val_loader)\n",
        "\n",
        "    train_losses.append(train_loss)\n",
        "    val_losses.append(val_loss)\n",
        "\n",
        "    print(f\"Epoch {epoch+1}: Train Loss: {train_loss:.4f}, Val Loss: {val_loss:.4f}\")\n",
        "\n",
        "torch.save(model.state_dict(), \"bird_sound_segmenter.pth\")\n",
        "print(\"Training complete. Model saved\")"
      ],
      "metadata": {
        "trusted": true,
        "execution": {
          "iopub.status.busy": "2025-04-18T20:59:17.346831Z",
          "iopub.execute_input": "2025-04-18T20:59:17.347497Z",
          "iopub.status.idle": "2025-04-18T21:45:44.521235Z",
          "shell.execute_reply.started": "2025-04-18T20:59:17.347476Z",
          "shell.execute_reply": "2025-04-18T21:45:44.520421Z"
        },
        "id": "N-mrvOYILdVf",
        "outputId": "8a38e5d6-f4ff-46eb-870e-a3b857a91890"
      },
      "outputs": [
        {
          "name": "stdout",
          "text": "Starting training\n",
          "output_type": "stream"
        },
        {
          "name": "stderr",
          "text": "Epoch 1/25: 100%|██████████| 125/125 [01:52<00:00,  1.11it/s]\n",
          "output_type": "stream"
        },
        {
          "name": "stdout",
          "text": "Epoch 1: Train Loss: 0.1887, Val Loss: 0.1004\n",
          "output_type": "stream"
        },
        {
          "name": "stderr",
          "text": "Epoch 2/25: 100%|██████████| 125/125 [01:36<00:00,  1.30it/s]\n",
          "output_type": "stream"
        },
        {
          "name": "stdout",
          "text": "Epoch 2: Train Loss: 0.1096, Val Loss: 0.0888\n",
          "output_type": "stream"
        },
        {
          "name": "stderr",
          "text": "Epoch 3/25: 100%|██████████| 125/125 [01:35<00:00,  1.31it/s]\n",
          "output_type": "stream"
        },
        {
          "name": "stdout",
          "text": "Epoch 3: Train Loss: 0.0946, Val Loss: 0.0835\n",
          "output_type": "stream"
        },
        {
          "name": "stderr",
          "text": "Epoch 4/25: 100%|██████████| 125/125 [01:35<00:00,  1.31it/s]\n",
          "output_type": "stream"
        },
        {
          "name": "stdout",
          "text": "Epoch 4: Train Loss: 0.0898, Val Loss: 0.0785\n",
          "output_type": "stream"
        },
        {
          "name": "stderr",
          "text": "Epoch 5/25: 100%|██████████| 125/125 [01:35<00:00,  1.31it/s]\n",
          "output_type": "stream"
        },
        {
          "name": "stdout",
          "text": "Epoch 5: Train Loss: 0.0833, Val Loss: 0.0727\n",
          "output_type": "stream"
        },
        {
          "name": "stderr",
          "text": "Epoch 6/25: 100%|██████████| 125/125 [01:35<00:00,  1.31it/s]\n",
          "output_type": "stream"
        },
        {
          "name": "stdout",
          "text": "Epoch 6: Train Loss: 0.0822, Val Loss: 0.0819\n",
          "output_type": "stream"
        },
        {
          "name": "stderr",
          "text": "Epoch 7/25: 100%|██████████| 125/125 [01:35<00:00,  1.31it/s]\n",
          "output_type": "stream"
        },
        {
          "name": "stdout",
          "text": "Epoch 7: Train Loss: 0.0805, Val Loss: 0.0698\n",
          "output_type": "stream"
        },
        {
          "name": "stderr",
          "text": "Epoch 8/25: 100%|██████████| 125/125 [01:35<00:00,  1.31it/s]\n",
          "output_type": "stream"
        },
        {
          "name": "stdout",
          "text": "Epoch 8: Train Loss: 0.0776, Val Loss: 0.0723\n",
          "output_type": "stream"
        },
        {
          "name": "stderr",
          "text": "Epoch 9/25: 100%|██████████| 125/125 [01:35<00:00,  1.31it/s]\n",
          "output_type": "stream"
        },
        {
          "name": "stdout",
          "text": "Epoch 9: Train Loss: 0.0769, Val Loss: 0.0711\n",
          "output_type": "stream"
        },
        {
          "name": "stderr",
          "text": "Epoch 10/25: 100%|██████████| 125/125 [01:34<00:00,  1.32it/s]\n",
          "output_type": "stream"
        },
        {
          "name": "stdout",
          "text": "Epoch 10: Train Loss: 0.0750, Val Loss: 0.0740\n",
          "output_type": "stream"
        },
        {
          "name": "stderr",
          "text": "Epoch 11/25: 100%|██████████| 125/125 [01:35<00:00,  1.31it/s]\n",
          "output_type": "stream"
        },
        {
          "name": "stdout",
          "text": "Epoch 11: Train Loss: 0.0732, Val Loss: 0.0704\n",
          "output_type": "stream"
        },
        {
          "name": "stderr",
          "text": "Epoch 12/25: 100%|██████████| 125/125 [01:35<00:00,  1.31it/s]\n",
          "output_type": "stream"
        },
        {
          "name": "stdout",
          "text": "Epoch 12: Train Loss: 0.0716, Val Loss: 0.0741\n",
          "output_type": "stream"
        },
        {
          "name": "stderr",
          "text": "Epoch 13/25: 100%|██████████| 125/125 [01:35<00:00,  1.31it/s]\n",
          "output_type": "stream"
        },
        {
          "name": "stdout",
          "text": "Epoch 13: Train Loss: 0.0729, Val Loss: 0.0736\n",
          "output_type": "stream"
        },
        {
          "name": "stderr",
          "text": "Epoch 14/25: 100%|██████████| 125/125 [01:34<00:00,  1.32it/s]\n",
          "output_type": "stream"
        },
        {
          "name": "stdout",
          "text": "Epoch 14: Train Loss: 0.0706, Val Loss: 0.0716\n",
          "output_type": "stream"
        },
        {
          "name": "stderr",
          "text": "Epoch 15/25: 100%|██████████| 125/125 [01:35<00:00,  1.31it/s]\n",
          "output_type": "stream"
        },
        {
          "name": "stdout",
          "text": "Epoch 15: Train Loss: 0.0710, Val Loss: 0.0696\n",
          "output_type": "stream"
        },
        {
          "name": "stderr",
          "text": "Epoch 16/25: 100%|██████████| 125/125 [01:35<00:00,  1.31it/s]\n",
          "output_type": "stream"
        },
        {
          "name": "stdout",
          "text": "Epoch 16: Train Loss: 0.0703, Val Loss: 0.0693\n",
          "output_type": "stream"
        },
        {
          "name": "stderr",
          "text": "Epoch 17/25: 100%|██████████| 125/125 [01:34<00:00,  1.32it/s]\n",
          "output_type": "stream"
        },
        {
          "name": "stdout",
          "text": "Epoch 17: Train Loss: 0.0670, Val Loss: 0.0690\n",
          "output_type": "stream"
        },
        {
          "name": "stderr",
          "text": "Epoch 18/25: 100%|██████████| 125/125 [01:33<00:00,  1.34it/s]\n",
          "output_type": "stream"
        },
        {
          "name": "stdout",
          "text": "Epoch 18: Train Loss: 0.0677, Val Loss: 0.0689\n",
          "output_type": "stream"
        },
        {
          "name": "stderr",
          "text": "Epoch 19/25: 100%|██████████| 125/125 [01:33<00:00,  1.34it/s]\n",
          "output_type": "stream"
        },
        {
          "name": "stdout",
          "text": "Epoch 19: Train Loss: 0.0658, Val Loss: 0.0701\n",
          "output_type": "stream"
        },
        {
          "name": "stderr",
          "text": "Epoch 20/25: 100%|██████████| 125/125 [01:34<00:00,  1.32it/s]\n",
          "output_type": "stream"
        },
        {
          "name": "stdout",
          "text": "Epoch 20: Train Loss: 0.0662, Val Loss: 0.0671\n",
          "output_type": "stream"
        },
        {
          "name": "stderr",
          "text": "Epoch 21/25: 100%|██████████| 125/125 [01:36<00:00,  1.30it/s]\n",
          "output_type": "stream"
        },
        {
          "name": "stdout",
          "text": "Epoch 21: Train Loss: 0.0632, Val Loss: 0.0678\n",
          "output_type": "stream"
        },
        {
          "name": "stderr",
          "text": "Epoch 22/25: 100%|██████████| 125/125 [01:35<00:00,  1.31it/s]\n",
          "output_type": "stream"
        },
        {
          "name": "stdout",
          "text": "Epoch 22: Train Loss: 0.0632, Val Loss: 0.0770\n",
          "output_type": "stream"
        },
        {
          "name": "stderr",
          "text": "Epoch 23/25: 100%|██████████| 125/125 [01:35<00:00,  1.31it/s]\n",
          "output_type": "stream"
        },
        {
          "name": "stdout",
          "text": "Epoch 23: Train Loss: 0.0645, Val Loss: 0.0687\n",
          "output_type": "stream"
        },
        {
          "name": "stderr",
          "text": "Epoch 24/25: 100%|██████████| 125/125 [01:35<00:00,  1.30it/s]\n",
          "output_type": "stream"
        },
        {
          "name": "stdout",
          "text": "Epoch 24: Train Loss: 0.0615, Val Loss: 0.0753\n",
          "output_type": "stream"
        },
        {
          "name": "stderr",
          "text": "Epoch 25/25: 100%|██████████| 125/125 [01:35<00:00,  1.31it/s]\n",
          "output_type": "stream"
        },
        {
          "name": "stdout",
          "text": "Epoch 25: Train Loss: 0.0608, Val Loss: 0.0712\nTraining complete. Model saved\n",
          "output_type": "stream"
        }
      ],
      "execution_count": null
    },
    {
      "cell_type": "code",
      "source": [
        "plt.figure(figsize=(12, 5))\n",
        "plt.subplot(1, 2, 1)\n",
        "plt.plot(train_losses, label='Training Loss')\n",
        "plt.plot(val_losses, label='Validation Loss')\n",
        "plt.title('Training & Validation Loss')\n",
        "plt.xlabel('Epoch')\n",
        "plt.ylabel('Loss')\n",
        "plt.legend()\n",
        "plt.grid(False)"
      ],
      "metadata": {
        "trusted": true,
        "execution": {
          "iopub.status.busy": "2025-04-18T21:45:53.569430Z",
          "iopub.execute_input": "2025-04-18T21:45:53.569989Z",
          "iopub.status.idle": "2025-04-18T21:45:53.751311Z",
          "shell.execute_reply.started": "2025-04-18T21:45:53.569963Z",
          "shell.execute_reply": "2025-04-18T21:45:53.750619Z"
        },
        "id": "HqpsmKYpLdVg",
        "outputId": "329f845b-55a9-4b8d-e0c3-12ac96578e0f"
      },
      "outputs": [
        {
          "output_type": "display_data",
          "data": {
            "text/plain": "<Figure size 1200x500 with 1 Axes>",
            "image/png": "[encoded data removed]"
          },
          "metadata": {}
        }
      ],
      "execution_count": null
    },
    {
      "cell_type": "markdown",
      "source": [
        "# 3.Evaluate your model using the test images"
      ],
      "metadata": {
        "id": "lRNOmwhDLdVh"
      }
    },
    {
      "cell_type": "code",
      "source": [
        "def calculate_iou(preds, targets, threshold=0.5):\n",
        "    preds = (preds > threshold).float()\n",
        "    targets = (targets > threshold).float()\n",
        "\n",
        "    intersection = (preds * targets).sum()\n",
        "    union = preds.sum() + targets.sum() - intersection\n",
        "\n",
        "    return (intersection / (union + 1e-6)).item()\n",
        "\n",
        "model.load_state_dict(torch.load(\"bird_sound_segmenter.pth\"))\n",
        "model.eval()\n",
        "\n",
        "test_loader = DataLoader(test_dataset, batch_size=batch_size, shuffle=False)\n",
        "total_iou = 0\n",
        "samples = 0\n",
        "\n",
        "print(\"\\nEvaluating on test set\")\n",
        "with torch.no_grad():\n",
        "    for images, masks in tqdm(test_loader):\n",
        "        images, masks = images.to(device), masks.to(device)\n",
        "        outputs = model(images)\n",
        "\n",
        "        if outputs.shape[2:] != masks.shape[2:]:\n",
        "            masks = nn.functional.interpolate(masks, size=outputs.shape[2:], mode='nearest')\n",
        "\n",
        "        batch_iou = calculate_iou(outputs, masks)\n",
        "        total_iou += batch_iou * images.size(0)\n",
        "        samples += images.size(0)\n",
        "\n",
        "average_iou = total_iou / samples\n",
        "print(f\"Test IoU: {average_iou:.4f}\")"
      ],
      "metadata": {
        "trusted": true,
        "execution": {
          "iopub.status.busy": "2025-04-18T21:46:19.565669Z",
          "iopub.execute_input": "2025-04-18T21:46:19.565953Z",
          "iopub.status.idle": "2025-04-18T21:46:48.629507Z",
          "shell.execute_reply.started": "2025-04-18T21:46:19.565931Z",
          "shell.execute_reply": "2025-04-18T21:46:48.628872Z"
        },
        "id": "T9IqQgHSLdVi",
        "outputId": "a334f5a2-54dd-492a-c890-da57179bc058"
      },
      "outputs": [
        {
          "name": "stderr",
          "text": "/tmp/ipykernel_31/2039722494.py:10: FutureWarning: You are using `torch.load` with `weights_only=False` (the current default value), which uses the default pickle module implicitly. It is possible to construct malicious pickle data which will execute arbitrary code during unpickling (See https://github.com/pytorch/pytorch/blob/main/SECURITY.md#untrusted-models for more details). In a future release, the default value for `weights_only` will be flipped to `True`. This limits the functions that could be executed during unpickling. Arbitrary objects will no longer be allowed to be loaded via this mode unless they are explicitly allowlisted by the user via `torch.serialization.add_safe_globals`. We recommend you start setting `weights_only=True` for any use case where you don't have full control of the loaded file. Please open an issue on GitHub for any issues related to this experimental feature.\n  model.load_state_dict(torch.load(\"bird_sound_segmenter.pth\"))\n",
          "output_type": "stream"
        },
        {
          "name": "stdout",
          "text": "\nEvaluating on test set\n",
          "output_type": "stream"
        },
        {
          "name": "stderr",
          "text": "100%|██████████| 38/38 [00:29<00:00,  1.31it/s]",
          "output_type": "stream"
        },
        {
          "name": "stdout",
          "text": "Test IoU: 0.6403\n",
          "output_type": "stream"
        },
        {
          "name": "stderr",
          "text": "\n",
          "output_type": "stream"
        }
      ],
      "execution_count": null
    },
    {
      "cell_type": "markdown",
      "source": [
        "# 4. Your IoU score should be higher than 60"
      ],
      "metadata": {
        "id": "ORq_qbisLdVj"
      }
    },
    {
      "cell_type": "markdown",
      "source": [
        "The test IoU score is 0.6403, or 64%, which is higher than the requirement of 60%, thus satisfying the desired numbers."
      ],
      "metadata": {
        "id": "2rHwFqfILdVj"
      }
    },
    {
      "cell_type": "markdown",
      "source": [
        "# 5. Write a 3-page report using LaTex and upload your paper to ResearchGate or Arxiv, and put your paper link here.\n"
      ],
      "metadata": {
        "id": "YV4kEEGHLdVk"
      }
    },
    {
      "cell_type": "markdown",
      "source": [
        "Link to path file: https://drive.google.com/file/d/13l08CHnrdpYdnegHtrqqlk-bf6rnYa_o/view?usp=drive_link\n",
        "\n",
        "Link to reearch paper: https://www.researchgate.net/publication/391288057_Bird_Sound_Segmentation_Using_Deep_Learning"
      ],
      "metadata": {
        "id": "EPqxTqoILdVk"
      }
    },
    {
      "cell_type": "markdown",
      "source": [
        "# 6. Grading rubric\n",
        "\n",
        "(1). Code ------- 20 points (you also need to upload your final model as a pt file, and add paper link)\n",
        "\n",
        "(2). Grammer ---- 20 points\n",
        "\n",
        "(3). Introduction & related work --- 10 points\n",
        "\n",
        "(4). Method  ---- 20 points\n",
        "\n",
        "(5). Results ---- 20 points\n",
        "\n",
        "     > = 0.6 -->10 points\n",
        "     < 0.5  --> 0 points\n",
        "     >= 0.5 & < 0.6  --> 1 point/0.01 higher\n",
        "     \n",
        "\n",
        "(6). Discussion - 10 points"
      ],
      "metadata": {
        "id": "PIGxLXmoLdVk"
      }
    }
  ]
}